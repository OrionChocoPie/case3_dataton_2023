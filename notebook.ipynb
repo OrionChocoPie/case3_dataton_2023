{
  "cells": [
    {
      "cell_type": "code",
      "execution_count": null,
      "metadata": {
        "colab": {
          "base_uri": "https://localhost:8080/"
        },
        "id": "BV1kacI7ugve",
        "outputId": "185f73bf-5551-4cb3-d992-3c18bee2dcd8"
      },
      "outputs": [],
      "source": [
        "from glob import glob\n",
        "\n",
        "import numpy as np\n",
        "import torch\n",
        "import torch.nn as nn\n",
        "import torch.optim as optim\n",
        "from sklearn.model_selection import StratifiedKFold\n",
        "from torch.optim import lr_scheduler\n",
        "import pandas as pd\n",
        "from tqdm import tqdm\n",
        "\n",
        "from src.dataloader import CarsDataset\n",
        "from src.transforms import transforms\n",
        "from src.utils import get_model_predictions\n",
        "from src.trainer import train_model\n",
        "from src.models import get_model\n",
        "from src.config import config"
      ]
    },
    {
      "cell_type": "markdown",
      "metadata": {},
      "source": [
        "# Load data and prepare folds"
      ]
    },
    {
      "cell_type": "code",
      "execution_count": null,
      "metadata": {},
      "outputs": [],
      "source": [
        "image_pathes = np.array(glob(f\"data/techosmotr/techosmotr/train/**/*.jpeg\", recursive=True))\n",
        "image_classes = np.array([image_path.split(\"/\")[-2] for image_path in image_pathes])\n",
        "class_names = sorted(set(image_classes))\n",
        "\n",
        "index2class = {i: x for i, x in enumerate(class_names)}\n",
        "class2index = {x: i for i, x in index2class.items()}\n",
        "\n",
        "skf = StratifiedKFold(n_splits=config[\"N_SPLITS\"], shuffle=True, random_state=config[\"RANDOM_STATE\"])\n",
        "folds = {}\n",
        "for i, (train_index, val_index) in enumerate(skf.split(image_pathes, image_classes)):\n",
        "    folds[i] = (train_index, val_index)"
      ]
    },
    {
      "cell_type": "markdown",
      "metadata": {},
      "source": [
        "# Run train pipeline"
      ]
    },
    {
      "cell_type": "code",
      "execution_count": null,
      "metadata": {
        "id": "-18bIy1iugvg"
      },
      "outputs": [],
      "source": [
        "for index_fold, fold in folds.items():\n",
        "    print(f\"Run on {index_fold} fold...\")\n",
        "    indexes = {\"train\": fold[0], \"val\": fold[1]}\n",
        "    dataloaders = {\n",
        "        x: torch.utils.data.DataLoader(\n",
        "            CarsDataset(image_pathes, image_classes, indexes[x], class2index, transforms[x]),\n",
        "            batch_size=config[\"BATCH_SIZE\"], \n",
        "            shuffle=True, \n",
        "            num_workers=config[\"N_WORKERS\"],\n",
        "        )\n",
        "        for x in ['train', 'val']\n",
        "    }\n",
        "\n",
        "    class_weights = torch.tensor(config[\"CLASS_WEIGHTS\"], dtype=torch.float).to(config[\"DEVICE\"])\n",
        "\n",
        "    model = get_model(config[\"MODEL_NAME\"], config[\"DEVICE\"], len(class_names), freeze=False)\n",
        "\n",
        "    criterion = nn.CrossEntropyLoss(weight=class_weights)\n",
        "    optimizer = optim.AdamW([p for p in model.parameters() if p.requires_grad], lr=config[\"optimizer\"][\"lr\"])\n",
        "    scheduler = lr_scheduler.StepLR(optimizer, step_size=config[\"scheduler\"][\"step_size\"], gamma=config[\"scheduler\"][\"gamma\"])\n",
        "\n",
        "    model = train_model(dataloaders, model, criterion, optimizer, scheduler, config[\"DEVICE\"], class_names, num_epochs=config[\"EPOCHS\"])"
      ]
    },
    {
      "cell_type": "markdown",
      "metadata": {},
      "source": [
        "# Save best model and prepare results"
      ]
    },
    {
      "cell_type": "code",
      "execution_count": null,
      "metadata": {},
      "outputs": [],
      "source": [
        "torch.save(model.state_dict(), \"data/best_model.pth\")\n",
        "\n",
        "test_image_pathes = np.array(glob(f\"data/techosmotr/techosmotr/test/**/*.jpeg\", recursive=True))\n",
        "submission_df = pd.read_csv(\"data/sample_submission.csv\")\n",
        "\n",
        "for img_path in tqdm(test_image_pathes):\n",
        "    id_ = int(img_path.split(\"/\")[-1][:-5])\n",
        "    pred = get_model_predictions(model, transforms[\"val\"], config[\"DEVICE\"], img_path)[0]\n",
        "    submission_df.loc[submission_df[\"file_index\"] == id_, \"class\"] = int(pred > 0)\n",
        "submission_df.to_csv(\"output.csv\", index=False)"
      ]
    }
  ],
  "metadata": {
    "accelerator": "GPU",
    "colab": {
      "gpuType": "T4",
      "provenance": [],
      "toc_visible": true
    },
    "kernelspec": {
      "display_name": "Python 3",
      "name": "python3"
    },
    "language_info": {
      "codemirror_mode": {
        "name": "ipython",
        "version": 3
      },
      "file_extension": ".py",
      "mimetype": "text/x-python",
      "name": "python",
      "nbconvert_exporter": "python",
      "pygments_lexer": "ipython3",
      "version": "3.10.11"
    }
  },
  "nbformat": 4,
  "nbformat_minor": 0
}
